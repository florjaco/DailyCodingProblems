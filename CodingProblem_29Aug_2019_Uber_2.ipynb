{
  "nbformat": 4,
  "nbformat_minor": 0,
  "metadata": {
    "colab": {
      "name": "CodingProblem_29Aug_2019_Uber#2.ipynb",
      "version": "0.3.2",
      "provenance": [],
      "collapsed_sections": [],
      "include_colab_link": true
    },
    "kernelspec": {
      "name": "python3",
      "display_name": "Python 3"
    }
  },
  "cells": [
    {
      "cell_type": "markdown",
      "metadata": {
        "id": "view-in-github",
        "colab_type": "text"
      },
      "source": [
        "<a href=\"https://colab.research.google.com/github/florjaco/DailyCodingProblems/blob/master/CodingProblem_29Aug_2019_Uber_2.ipynb\" target=\"_parent\"><img src=\"https://colab.research.google.com/assets/colab-badge.svg\" alt=\"Open In Colab\"/></a>"
      ]
    },
    {
      "cell_type": "code",
      "metadata": {
        "id": "GmyxKS9CY02_",
        "colab_type": "code",
        "colab": {}
      },
      "source": [
        "# Daily Coding Problems\n",
        "# Coding Problem 29 Aug 2019\n",
        "\n",
        "#Given an array of integers, return a new array such that each element at index i of the new array is the product of all the numbers in the original array except the one at i.\n",
        "\n",
        "#For example, if our input was [1, 2, 3, 4, 5], the expected output would be [120, 60, 40, 30, 24]. If our input was [3, 2, 1], the expected output would be [2, 3, 6].\n",
        "\n",
        "def Productofall(array):\n",
        "  \"\"\"This function returns the product of all the elements in an array\"\"\"\n",
        "  product=1\n",
        "  for i in array:\n",
        "    product=product*i\n",
        "  return product"
      ],
      "execution_count": 0,
      "outputs": []
    },
    {
      "cell_type": "code",
      "metadata": {
        "id": "i2_tNLWdinXZ",
        "colab_type": "code",
        "colab": {
          "base_uri": "https://localhost:8080/",
          "height": 35
        },
        "outputId": "1659d107-40d2-4915-e8ca-7b7add323f87"
      },
      "source": [
        "test_array1 = [1, 2, 3, 4, 5]\n",
        "solution_test_array1 = Productofall(test_array1)\n",
        "print(solution_test_array1)"
      ],
      "execution_count": 39,
      "outputs": [
        {
          "output_type": "stream",
          "text": [
            "120\n"
          ],
          "name": "stdout"
        }
      ]
    },
    {
      "cell_type": "code",
      "metadata": {
        "id": "8W3AS6wziqAj",
        "colab_type": "code",
        "colab": {}
      },
      "source": [
        "def Productofall_minusi(array):\n",
        "  \"\"\"Given an array of integers, this function\n",
        "  returns a new array such that each element at index i of the new array is \n",
        "  the product of all the numbers in the original array except the one at i.\"\"\"\n",
        "  \n",
        "  product_minusi = []\n",
        "  \n",
        "  for i in range(0,len(array)):\n",
        "    product_minusi.append(int(Productofall(array)/array[i]))\n",
        "  \n",
        "  return product_minusi\n"
      ],
      "execution_count": 0,
      "outputs": []
    },
    {
      "cell_type": "code",
      "metadata": {
        "id": "Wq1Rqe9Ik50i",
        "colab_type": "code",
        "colab": {
          "base_uri": "https://localhost:8080/",
          "height": 35
        },
        "outputId": "bdf74158-c04a-4670-94e3-fcb852d06585"
      },
      "source": [
        "test_array1 = [1, 2, 3, 4, 5]\n",
        "solution_test_array1 = Productofall_minusi(test_array1)\n",
        "print(solution_test_array1)"
      ],
      "execution_count": 63,
      "outputs": [
        {
          "output_type": "stream",
          "text": [
            "[2, 3, 6]\n"
          ],
          "name": "stdout"
        }
      ]
    },
    {
      "cell_type": "code",
      "metadata": {
        "id": "lIXQ7lp5lfZ_",
        "colab_type": "code",
        "colab": {}
      },
      "source": [
        "test_array2 = [3,2,1]\n",
        "solution_test_array2 = Productofall_minusi(test_array2)\n",
        "print(solution_test_array2)"
      ],
      "execution_count": 0,
      "outputs": []
    },
    {
      "cell_type": "code",
      "metadata": {
        "id": "kb5Z5se-lgsD",
        "colab_type": "code",
        "colab": {}
      },
      "source": [
        "#Follow-up: what if you can't use division?\n",
        "def Productofall_minusi_v2(array):\n",
        "  \"\"\"Given an array of integers, this function\n",
        "  returns a new array such that each element at index i of the new array is \n",
        "  the product of all the numbers in the original array except the one at i.\"\"\"\n",
        "  \n",
        "  product_minusi = []\n",
        "  \n",
        "  for i in range(0,len(array)):\n",
        "    product_minusi.append(Productofall(array[0:i])*Productofall(array[i+1:len(array)]))\n",
        "  \n",
        "  return product_minusi"
      ],
      "execution_count": 0,
      "outputs": []
    },
    {
      "cell_type": "code",
      "metadata": {
        "id": "UJyiAPrfpf3X",
        "colab_type": "code",
        "colab": {
          "base_uri": "https://localhost:8080/",
          "height": 35
        },
        "outputId": "14f41e07-ef67-4d05-9b8d-61f6be721d34"
      },
      "source": [
        "test_array1 = [1, 2, 3, 4, 5]\n",
        "solution_test_array1 = Productofall_minusi_v2(test_array1)\n",
        "print(solution_test_array1)"
      ],
      "execution_count": 81,
      "outputs": [
        {
          "output_type": "stream",
          "text": [
            "[120, 60, 40, 30, 24]\n"
          ],
          "name": "stdout"
        }
      ]
    },
    {
      "cell_type": "code",
      "metadata": {
        "id": "27sXFFPlqdAU",
        "colab_type": "code",
        "colab": {
          "base_uri": "https://localhost:8080/",
          "height": 35
        },
        "outputId": "2d4998ab-3652-4010-9259-fdf8749378e0"
      },
      "source": [
        "test_array2 = [3,2,1]\n",
        "solution_test_array2 = Productofall_minusi_v2(test_array2)\n",
        "print(solution_test_array2)"
      ],
      "execution_count": 82,
      "outputs": [
        {
          "output_type": "stream",
          "text": [
            "[2, 3, 6]\n"
          ],
          "name": "stdout"
        }
      ]
    },
    {
      "cell_type": "code",
      "metadata": {
        "id": "TQKGqiAKrt7u",
        "colab_type": "code",
        "colab": {}
      },
      "source": [
        ""
      ],
      "execution_count": 0,
      "outputs": []
    }
  ]
}